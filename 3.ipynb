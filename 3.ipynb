{
 "cells": [
  {
   "cell_type": "code",
   "execution_count": 3,
   "id": "5b6146bb",
   "metadata": {},
   "outputs": [
    {
     "name": "stderr",
     "output_type": "stream",
     "text": [
      "<>:12: SyntaxWarning: invalid escape sequence '\\D'\n",
      "<>:12: SyntaxWarning: invalid escape sequence '\\D'\n",
      "C:\\Users\\vbara\\AppData\\Local\\Temp\\ipykernel_15708\\503596507.py:12: SyntaxWarning: invalid escape sequence '\\D'\n",
      "  data = pd.read_csv(\"D:\\Downloads\\Mental-Health-Twitter.csv\")  # Make sure this file is in the same folder\n",
      "[nltk_data] Downloading package punkt to\n",
      "[nltk_data]     C:\\Users\\vbara\\AppData\\Roaming\\nltk_data...\n",
      "[nltk_data]   Package punkt is already up-to-date!\n"
     ]
    },
    {
     "name": "stdout",
     "output_type": "stream",
     "text": [
      "Accuracy on test set: 0.8956666666666667\n",
      "Most Informative Features\n",
      "                    http = True                1 : 0      =    909.4 : 1.0\n",
      "                    user = True                0 : 1      =    143.5 : 1.0\n",
      "         realdonaldtrump = True                0 : 1      =    111.1 : 1.0\n",
      "              depression = True                1 : 0      =    100.0 : 1.0\n",
      "                overcome = True                1 : 0      =     64.5 : 1.0\n",
      "\n",
      "Enter a document to analyze: \"I absolutely loved this product, it works like a charm!\"\n",
      "\n",
      "This document is classified as: 0\n"
     ]
    }
   ],
   "source": [
    "import pandas as pd\n",
    "import nltk\n",
    "from nltk.tokenize import word_tokenize\n",
    "from nltk.classify import NaiveBayesClassifier\n",
    "from nltk.classify.util import accuracy\n",
    "from sklearn.model_selection import train_test_split\n",
    "\n",
    "# Download tokenizer if not already done\n",
    "nltk.download('punkt')\n",
    "\n",
    "# Step 1: Load dataset from CSV\n",
    "data = pd.read_csv(\"D:\\Downloads\\Mental-Health-Twitter.csv\")  # Make sure this file is in the same folder\n",
    "\n",
    "# Step 2: Feature extraction function\n",
    "def extract_features(text):\n",
    "    words = word_tokenize(text.lower())\n",
    "    return {word: True for word in words}\n",
    "\n",
    "# Step 3: Create feature set\n",
    "feature_set = [(extract_features(row['text']), row['label']) for _, row in data.iterrows()]\n",
    "\n",
    "# Step 4: Train-test split\n",
    "train_set, test_set = train_test_split(feature_set, test_size=0.3, random_state=42)\n",
    "\n",
    "# Step 5: Train the classifier\n",
    "classifier = NaiveBayesClassifier.train(train_set)\n",
    "\n",
    "# Step 6: Evaluate accuracy\n",
    "print(\"Accuracy on test set:\", accuracy(classifier, test_set))\n",
    "\n",
    "# Show top informative features\n",
    "classifier.show_most_informative_features(5)\n",
    "\n",
    "# Step 7: Classify new document\n",
    "def classify_input(document):\n",
    "    features = extract_features(document)\n",
    "    return classifier.classify(features)\n",
    "\n",
    "# User input\n",
    "user_input = input(\"\\nEnter a document to analyze: \")\n",
    "result = classify_input(user_input)\n",
    "print(\"\\nThis document is classified as:\", str(result).upper())\n"
   ]
  },
  {
   "cell_type": "code",
   "execution_count": null,
   "id": "4a7172df",
   "metadata": {},
   "outputs": [],
   "source": []
  }
 ],
 "metadata": {
  "kernelspec": {
   "display_name": "Python 3 (ipykernel)",
   "language": "python",
   "name": "python3"
  },
  "language_info": {
   "codemirror_mode": {
    "name": "ipython",
    "version": 3
   },
   "file_extension": ".py",
   "mimetype": "text/x-python",
   "name": "python",
   "nbconvert_exporter": "python",
   "pygments_lexer": "ipython3",
   "version": "3.13.0"
  }
 },
 "nbformat": 4,
 "nbformat_minor": 5
}
