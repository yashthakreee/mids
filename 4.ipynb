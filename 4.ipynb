{
 "cells": [
  {
   "cell_type": "code",
   "execution_count": 3,
   "id": "42096d51",
   "metadata": {},
   "outputs": [
    {
     "name": "stdout",
     "output_type": "stream",
     "text": [
      "Accuracy Score: 0.26435406698564595\n",
      "Classification Report:\n",
      "              precision    recall  f1-score   support\n",
      "\n",
      "           3       0.14      0.33      0.20         3\n",
      "           4       0.27      0.31      0.29        13\n",
      "           5       0.45      0.41      0.43        32\n",
      "           6       0.38      0.31      0.34        48\n",
      "           7       0.34      0.29      0.31        84\n",
      "           8       0.30      0.42      0.35        99\n",
      "           9       0.26      0.28      0.27       142\n",
      "          10       0.25      0.29      0.27       139\n",
      "          11       0.26      0.33      0.30        93\n",
      "          12       0.12      0.10      0.11        51\n",
      "          13       0.06      0.06      0.06        31\n",
      "          14       0.18      0.08      0.11        26\n",
      "          15       0.10      0.05      0.06        21\n",
      "          16       0.14      0.08      0.10        13\n",
      "          17       0.00      0.00      0.00         8\n",
      "          18       0.00      0.00      0.00        12\n",
      "          19       0.00      0.00      0.00         7\n",
      "          20       0.00      0.00      0.00         4\n",
      "          21       0.00      0.00      0.00         3\n",
      "          22       0.00      0.00      0.00         3\n",
      "          23       0.00      0.00      0.00         4\n",
      "\n",
      "    accuracy                           0.26       836\n",
      "   macro avg       0.16      0.16      0.15       836\n",
      "weighted avg       0.25      0.26      0.25       836\n",
      "\n"
     ]
    },
    {
     "name": "stderr",
     "output_type": "stream",
     "text": [
      "C:\\Users\\vbara\\AppData\\Local\\Programs\\Python\\Python313\\Lib\\site-packages\\sklearn\\metrics\\_classification.py:1565: UndefinedMetricWarning: Precision is ill-defined and being set to 0.0 in labels with no predicted samples. Use `zero_division` parameter to control this behavior.\n",
      "  _warn_prf(average, modifier, f\"{metric.capitalize()} is\", len(result))\n",
      "C:\\Users\\vbara\\AppData\\Local\\Programs\\Python\\Python313\\Lib\\site-packages\\sklearn\\metrics\\_classification.py:1565: UndefinedMetricWarning: Precision is ill-defined and being set to 0.0 in labels with no predicted samples. Use `zero_division` parameter to control this behavior.\n",
      "  _warn_prf(average, modifier, f\"{metric.capitalize()} is\", len(result))\n",
      "C:\\Users\\vbara\\AppData\\Local\\Programs\\Python\\Python313\\Lib\\site-packages\\sklearn\\metrics\\_classification.py:1565: UndefinedMetricWarning: Precision is ill-defined and being set to 0.0 in labels with no predicted samples. Use `zero_division` parameter to control this behavior.\n",
      "  _warn_prf(average, modifier, f\"{metric.capitalize()} is\", len(result))\n"
     ]
    }
   ],
   "source": [
    "# Import necessary libraries\n",
    "import pandas as pd\n",
    "import numpy as np\n",
    "from sklearn.model_selection import train_test_split\n",
    "from sklearn.ensemble import RandomForestClassifier\n",
    "from sklearn.metrics import accuracy_score, classification_report\n",
    "\n",
    "# Load the dataset (replace 'abalone.data' with the path to your dataset)\n",
    "column_names = [\n",
    "    'Sex', 'Length', 'Diameter', 'Height', 'WholeWeight', 'ShuckedWeight', 'VisceraWeight', 'ShellWeight', 'Rings'\n",
    "]\n",
    "data = pd.read_csv(r\"d:\\Downloads\\abalone\\abalone.csv\", header=None, names=column_names)\n",
    "\n",
    "# Preprocess the 'Sex' column by converting it to numeric values\n",
    "data['Sex'] = data['Sex'].map({'M': 0, 'F': 1, 'I': 2})\n",
    "\n",
    "# Split the dataset into features (X) and target variable (y)\n",
    "X = data.drop('Rings', axis=1)\n",
    "y = data['Rings']\n",
    "\n",
    "# Split the data into training and testing sets\n",
    "X_train, X_test, y_train, y_test = train_test_split(X, y, test_size=0.2, random_state=42)\n",
    "\n",
    "# Initialize the Random Forest Classifier model\n",
    "rf_model = RandomForestClassifier(n_estimators=100, random_state=42)\n",
    "\n",
    "# Train the model\n",
    "rf_model.fit(X_train, y_train)\n",
    "\n",
    "# Predict the number of rings for the test set\n",
    "y_pred = rf_model.predict(X_test)\n",
    "\n",
    "# Evaluate the model\n",
    "print(\"Accuracy Score:\", accuracy_score(y_test, y_pred))\n",
    "print(\"Classification Report:\")\n",
    "print(classification_report(y_test, y_pred))\n"
   ]
  },
  {
   "cell_type": "code",
   "execution_count": 4,
   "id": "2001036e",
   "metadata": {},
   "outputs": [
    {
     "name": "stdout",
     "output_type": "stream",
     "text": [
      "Mean Absolute Error: 1.606760859825025\n",
      "Mean Squared Error: 4.950310502936191\n",
      "R2 Score: 0.5427053625654411\n"
     ]
    }
   ],
   "source": [
    "# Import necessary libraries for linear regression\n",
    "from sklearn.linear_model import LinearRegression\n",
    "from sklearn.metrics import mean_squared_error, mean_absolute_error, r2_score\n",
    "\n",
    "# Create the 'Age' column (Age = Rings + 1.5)\n",
    "data['Age'] = data['Rings'] + 1.5\n",
    "\n",
    "# Split the dataset into features (X) and target variable (y) for regression\n",
    "X = data.drop(['Rings', 'Age'], axis=1)\n",
    "y = data['Age']\n",
    "\n",
    "# Split the data into training and testing sets\n",
    "X_train, X_test, y_train, y_test = train_test_split(X, y, test_size=0.2, random_state=42)\n",
    "\n",
    "# Initialize the Linear Regression model\n",
    "lin_reg_model = LinearRegression()\n",
    "\n",
    "# Train the model\n",
    "lin_reg_model.fit(X_train, y_train)\n",
    "\n",
    "# Predict the age for the test set\n",
    "y_pred_age = lin_reg_model.predict(X_test)\n",
    "\n",
    "# Evaluate the model\n",
    "print(\"Mean Absolute Error:\", mean_absolute_error(y_test, y_pred_age))\n",
    "print(\"Mean Squared Error:\", mean_squared_error(y_test, y_pred_age))\n",
    "print(\"R2 Score:\", r2_score(y_test, y_pred_age))\n"
   ]
  },
  {
   "cell_type": "code",
   "execution_count": null,
   "id": "77d3f8f4",
   "metadata": {},
   "outputs": [],
   "source": []
  }
 ],
 "metadata": {
  "kernelspec": {
   "display_name": "Python 3 (ipykernel)",
   "language": "python",
   "name": "python3"
  },
  "language_info": {
   "codemirror_mode": {
    "name": "ipython",
    "version": 3
   },
   "file_extension": ".py",
   "mimetype": "text/x-python",
   "name": "python",
   "nbconvert_exporter": "python",
   "pygments_lexer": "ipython3",
   "version": "3.13.0"
  }
 },
 "nbformat": 4,
 "nbformat_minor": 5
}
